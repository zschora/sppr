{
 "cells": [
  {
   "cell_type": "code",
   "execution_count": 1,
   "metadata": {},
   "outputs": [
    {
     "name": "stdout",
     "output_type": "stream",
     "text": [
      "Collecting cvxopt\n",
      "  Downloading cvxopt-1.3.0-cp38-cp38-win_amd64.whl (12.7 MB)\n",
      "Installing collected packages: cvxopt\n",
      "Successfully installed cvxopt-1.3.0\n"
     ]
    }
   ],
   "source": [
    "!pip install cvxopt"
   ]
  },
  {
   "cell_type": "code",
   "execution_count": 36,
   "metadata": {},
   "outputs": [
    {
     "name": "stdout",
     "output_type": "stream",
     "text": [
      "Результат Xopt:\n",
      "100.0\n",
      "0.0\n",
      "0.0\n",
      "0.0\n",
      "0.0\n",
      "0.0\n",
      "0.0\n",
      "0.0\n",
      "100.0\n",
      "100.0\n",
      "0.0\n",
      "0.0\n",
      "200.0\n",
      "0.0\n",
      "100.0\n",
      "0.0\n",
      "200.0\n",
      "0.0\n",
      "0.0\n",
      "0.0\n",
      "0.0\n",
      "0.0\n",
      "0.0\n",
      "0.0\n",
      "0.0\n",
      "Стоимость доставки:\n",
      "1200.0\n",
      "Время :\n",
      "0.013598203659057617\n"
     ]
    }
   ],
   "source": [
    "from cvxopt.modeling import variable, op\n",
    "import time\n",
    "start = time.time()\n",
    "x = variable(25, 'x')\n",
    "c= [2,3,4,2,5, 3,1,3,1,3, 4,3,3,5,4, 5,1,2,6,7, 2,9,8,7,6]\n",
    "\n",
    "z=(c[0]*x[0] + c[1]*x[1] +c[2]* x[2] +c[3]*x[3] + c[4]*x[4] +c[5]* x[5]+c[6]*x[6] +c[7]*x[7] +c[8]* x[8]+\\\n",
    "  c[9]*x[9]+c[10]*x[10]+c[11]*x[11]+c[12]*x[13]+c[14]*x[14]+c[15]*x[15]+c[16]*x[16]+\\\n",
    "  c[17]*x[17]+c[18]*x[18]+c[19]*x[19]+c[20]*x[20]+c[21]*x[21]+c[22]*x[22]+c[23]*x[23]+c[24]*x[24])\n",
    "mass1 = (x[0] + x[1] +x[2]+x[3] +x[4] <= 100)\n",
    "mass2 = (x[5]+x[6]+x[7]+x[8]+x[9] <= 200)\n",
    "mass3 = (x[10] + x[11] + x[12] + x[13] +x[14]<= 300)\n",
    "mass4 = (x[15] + x[16] + x[17] + x[18] + x[19] <= 200)\n",
    "mass5 = (x[20] + x[21] + x[22] + x[23] + x[24] <= 100)\n",
    "mass6 = (x[0] + x[5] + x[10] + x[15] + x[20] == 100)\n",
    "mass7 = (x[1] +x[6] + x[11] + x[16] + x[21] == 200)\n",
    "mass8 = (x[2] + x[7] + x[12] + x[17] + x[22] == 200)\n",
    "mass9 = (x[3] + x[8] + x[13] + x[18] + x[23] == 100)\n",
    "mass10 = (x[4] + x[9] + x[14] + x[19] + x[24] == 200)\n",
    "x_non_negative = (x >= 0)    \n",
    "problem =op(z,[mass1,mass2,mass3,mass4 ,mass5,mass6, mass7, mass8,mass9,mass10,x_non_negative])\n",
    "problem.solve(solver='glpk')  \n",
    "print(\"Результат Xopt:\")\n",
    "for i in x.value:\n",
    "         print(i)\n",
    "print(\"Стоимость доставки:\")\n",
    "print(problem.objective.value()[0])\n",
    "stop = time.time()\n",
    "print (\"Время :\")\n",
    "print(stop - start)\n"
   ]
  },
  {
   "cell_type": "code",
   "execution_count": 8,
   "metadata": {},
   "outputs": [],
   "source": [
    "import numpy as np"
   ]
  },
  {
   "cell_type": "code",
   "execution_count": 20,
   "metadata": {},
   "outputs": [],
   "source": [
    "a = np.array([[7, 12, 1, 3, 8],\n",
    " [7,  2,  0, 10, 8],\n",
    " [6, 6, 2, 12, 11],\n",
    " [10,  9, 11,  3,  7],\n",
    " [7, 8, 6, 1, 1]])\n",
    "p = [0.36, 0.0, 0.12, 0.29, 0.22]\n",
    "q = [0.4, 0.5, 0.09, 0.02, 0.0]"
   ]
  },
  {
   "cell_type": "code",
   "execution_count": 17,
   "metadata": {},
   "outputs": [],
   "source": [
    "lower_price = a.min(axis=1).max()\n",
    "upper_price = a.max(axis=0).min()"
   ]
  },
  {
   "cell_type": "code",
   "execution_count": 19,
   "metadata": {},
   "outputs": [
    {
     "data": {
      "text/plain": [
       "(3, 10)"
      ]
     },
     "execution_count": 19,
     "metadata": {},
     "output_type": "execute_result"
    }
   ],
   "source": [
    "(lower_price, upper_price)"
   ]
  },
  {
   "cell_type": "code",
   "execution_count": 29,
   "metadata": {},
   "outputs": [
    {
     "data": {
      "text/plain": [
       "array([[ 7,  7,  6, 10,  7],\n",
       "       [12,  2,  6,  9,  8],\n",
       "       [ 1,  0,  2, 11,  6],\n",
       "       [ 3, 10, 12,  3,  1],\n",
       "       [ 8,  8, 11,  7,  1]])"
      ]
     },
     "execution_count": 29,
     "metadata": {},
     "output_type": "execute_result"
    }
   ],
   "source": []
  },
  {
   "cell_type": "code",
   "execution_count": 30,
   "metadata": {},
   "outputs": [
    {
     "name": "stdout",
     "output_type": "stream",
     "text": [
      "H_a(P,Q) = 8.309099999999999\n"
     ]
    }
   ],
   "source": [
    "print('H_a(P,Q) =', sum(sum((a*q).T*p)))"
   ]
  },
  {
   "cell_type": "code",
   "execution_count": 34,
   "metadata": {},
   "outputs": [
    {
     "name": "stdout",
     "output_type": "stream",
     "text": [
      "H_a(P,B1) 7.680000000000001\n",
      "H_a(P,B2) 9.41\n",
      "H_a(P,B3) 5.11\n",
      "H_a(P,B4) 3.61\n",
      "H_a(P,B5) 6.449999999999998\n"
     ]
    }
   ],
   "source": [
    "a_p = a.T*p\n",
    "for i in range(1,6):\n",
    "    print(f'H_a(P,B{i})', sum(a_p[i-1]))"
   ]
  },
  {
   "cell_type": "code",
   "execution_count": null,
   "metadata": {},
   "outputs": [],
   "source": []
  }
 ],
 "metadata": {
  "kernelspec": {
   "display_name": "Python 3",
   "language": "python",
   "name": "python3"
  },
  "language_info": {
   "codemirror_mode": {
    "name": "ipython",
    "version": 3
   },
   "file_extension": ".py",
   "mimetype": "text/x-python",
   "name": "python",
   "nbconvert_exporter": "python",
   "pygments_lexer": "ipython3",
   "version": "3.8.3"
  }
 },
 "nbformat": 4,
 "nbformat_minor": 4
}
