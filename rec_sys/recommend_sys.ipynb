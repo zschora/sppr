{
 "cells": [
  {
   "cell_type": "code",
   "execution_count": 1,
   "metadata": {
    "pycharm": {
     "name": "#%%\n"
    }
   },
   "outputs": [],
   "source": [
    "import numpy as np\n",
    "import pandas as pd\n",
    "from scipy import sparse\n",
    "from sklearn.preprocessing import normalize"
   ]
  },
  {
   "cell_type": "code",
   "execution_count": 76,
   "metadata": {
    "pycharm": {
     "name": "#%%\n"
    }
   },
   "outputs": [],
   "source": [
    "interactions_df = pd.read_csv(\"lastfm_user_scrobbles.csv\")\n",
    "titles_df = pd.read_csv(\"lastfm_artist_list.csv\")"
   ]
  },
  {
   "cell_type": "code",
   "execution_count": 49,
   "metadata": {
    "scrolled": false
   },
   "outputs": [
    {
     "data": {
      "text/html": [
       "<div>\n",
       "<style scoped>\n",
       "    .dataframe tbody tr th:only-of-type {\n",
       "        vertical-align: middle;\n",
       "    }\n",
       "\n",
       "    .dataframe tbody tr th {\n",
       "        vertical-align: top;\n",
       "    }\n",
       "\n",
       "    .dataframe thead th {\n",
       "        text-align: right;\n",
       "    }\n",
       "</style>\n",
       "<table border=\"1\" class=\"dataframe\">\n",
       "  <thead>\n",
       "    <tr style=\"text-align: right;\">\n",
       "      <th></th>\n",
       "      <th>artist_id</th>\n",
       "      <th>artist_name</th>\n",
       "    </tr>\n",
       "  </thead>\n",
       "  <tbody>\n",
       "    <tr>\n",
       "      <th>0</th>\n",
       "      <td>1</td>\n",
       "      <td>__Max__</td>\n",
       "    </tr>\n",
       "    <tr>\n",
       "      <th>1</th>\n",
       "      <td>2</td>\n",
       "      <td>_Algol_</td>\n",
       "    </tr>\n",
       "    <tr>\n",
       "      <th>2</th>\n",
       "      <td>3</td>\n",
       "      <td>-123 Min.</td>\n",
       "    </tr>\n",
       "    <tr>\n",
       "      <th>3</th>\n",
       "      <td>4</td>\n",
       "      <td>-Oz-</td>\n",
       "    </tr>\n",
       "    <tr>\n",
       "      <th>4</th>\n",
       "      <td>5</td>\n",
       "      <td>-T De Sangre</td>\n",
       "    </tr>\n",
       "    <tr>\n",
       "      <th>...</th>\n",
       "      <td>...</td>\n",
       "      <td>...</td>\n",
       "    </tr>\n",
       "    <tr>\n",
       "      <th>17488</th>\n",
       "      <td>17489</td>\n",
       "      <td>鷺巣詩郎</td>\n",
       "    </tr>\n",
       "    <tr>\n",
       "      <th>17489</th>\n",
       "      <td>17490</td>\n",
       "      <td>黃立行</td>\n",
       "    </tr>\n",
       "    <tr>\n",
       "      <th>17490</th>\n",
       "      <td>17491</td>\n",
       "      <td>黄义达</td>\n",
       "    </tr>\n",
       "    <tr>\n",
       "      <th>17491</th>\n",
       "      <td>17492</td>\n",
       "      <td>黒木メイサ</td>\n",
       "    </tr>\n",
       "    <tr>\n",
       "      <th>17492</th>\n",
       "      <td>17493</td>\n",
       "      <td>鼓童</td>\n",
       "    </tr>\n",
       "  </tbody>\n",
       "</table>\n",
       "<p>17493 rows × 2 columns</p>\n",
       "</div>"
      ],
      "text/plain": [
       "       artist_id   artist_name\n",
       "0              1       __Max__\n",
       "1              2       _Algol_\n",
       "2              3     -123 Min.\n",
       "3              4          -Oz-\n",
       "4              5  -T De Sangre\n",
       "...          ...           ...\n",
       "17488      17489          鷺巣詩郎\n",
       "17489      17490           黃立行\n",
       "17490      17491           黄义达\n",
       "17491      17492         黒木メイサ\n",
       "17492      17493            鼓童\n",
       "\n",
       "[17493 rows x 2 columns]"
      ]
     },
     "execution_count": 49,
     "metadata": {},
     "output_type": "execute_result"
    }
   ],
   "source": [
    "titles_df"
   ]
  },
  {
   "cell_type": "code",
   "execution_count": 55,
   "metadata": {
    "pycharm": {
     "name": "#%%\n"
    },
    "scrolled": true
   },
   "outputs": [
    {
     "data": {
      "text/html": [
       "<div>\n",
       "<style scoped>\n",
       "    .dataframe tbody tr th:only-of-type {\n",
       "        vertical-align: middle;\n",
       "    }\n",
       "\n",
       "    .dataframe tbody tr th {\n",
       "        vertical-align: top;\n",
       "    }\n",
       "\n",
       "    .dataframe thead th {\n",
       "        text-align: right;\n",
       "    }\n",
       "</style>\n",
       "<table border=\"1\" class=\"dataframe\">\n",
       "  <thead>\n",
       "    <tr style=\"text-align: right;\">\n",
       "      <th></th>\n",
       "      <th>user_id</th>\n",
       "      <th>artist_id</th>\n",
       "      <th>scrobbles</th>\n",
       "    </tr>\n",
       "  </thead>\n",
       "  <tbody>\n",
       "    <tr>\n",
       "      <th>0</th>\n",
       "      <td>1</td>\n",
       "      <td>4562</td>\n",
       "      <td>13883</td>\n",
       "    </tr>\n",
       "    <tr>\n",
       "      <th>1</th>\n",
       "      <td>1</td>\n",
       "      <td>10191</td>\n",
       "      <td>11690</td>\n",
       "    </tr>\n",
       "    <tr>\n",
       "      <th>2</th>\n",
       "      <td>1</td>\n",
       "      <td>494</td>\n",
       "      <td>11351</td>\n",
       "    </tr>\n",
       "    <tr>\n",
       "      <th>3</th>\n",
       "      <td>1</td>\n",
       "      <td>6673</td>\n",
       "      <td>10300</td>\n",
       "    </tr>\n",
       "    <tr>\n",
       "      <th>4</th>\n",
       "      <td>1</td>\n",
       "      <td>8402</td>\n",
       "      <td>8983</td>\n",
       "    </tr>\n",
       "    <tr>\n",
       "      <th>...</th>\n",
       "      <td>...</td>\n",
       "      <td>...</td>\n",
       "      <td>...</td>\n",
       "    </tr>\n",
       "    <tr>\n",
       "      <th>92787</th>\n",
       "      <td>1892</td>\n",
       "      <td>10098</td>\n",
       "      <td>278</td>\n",
       "    </tr>\n",
       "    <tr>\n",
       "      <th>92788</th>\n",
       "      <td>1892</td>\n",
       "      <td>8660</td>\n",
       "      <td>263</td>\n",
       "    </tr>\n",
       "    <tr>\n",
       "      <th>92789</th>\n",
       "      <td>1892</td>\n",
       "      <td>3274</td>\n",
       "      <td>258</td>\n",
       "    </tr>\n",
       "    <tr>\n",
       "      <th>92790</th>\n",
       "      <td>1892</td>\n",
       "      <td>4240</td>\n",
       "      <td>232</td>\n",
       "    </tr>\n",
       "    <tr>\n",
       "      <th>92791</th>\n",
       "      <td>1892</td>\n",
       "      <td>10842</td>\n",
       "      <td>228</td>\n",
       "    </tr>\n",
       "  </tbody>\n",
       "</table>\n",
       "<p>92792 rows × 3 columns</p>\n",
       "</div>"
      ],
      "text/plain": [
       "       user_id  artist_id  scrobbles\n",
       "0            1       4562      13883\n",
       "1            1      10191      11690\n",
       "2            1        494      11351\n",
       "3            1       6673      10300\n",
       "4            1       8402       8983\n",
       "...        ...        ...        ...\n",
       "92787     1892      10098        278\n",
       "92788     1892       8660        263\n",
       "92789     1892       3274        258\n",
       "92790     1892       4240        232\n",
       "92791     1892      10842        228\n",
       "\n",
       "[92792 rows x 3 columns]"
      ]
     },
     "execution_count": 55,
     "metadata": {},
     "output_type": "execute_result"
    }
   ],
   "source": [
    "interactions_df"
   ]
  },
  {
   "cell_type": "code",
   "execution_count": 56,
   "metadata": {
    "pycharm": {
     "name": "#%%\n"
    }
   },
   "outputs": [
    {
     "data": {
      "text/plain": [
       "array([[<matplotlib.axes._subplots.AxesSubplot object at 0x000001A4E522EAC0>,\n",
       "        <matplotlib.axes._subplots.AxesSubplot object at 0x000001A4E5272040>]],\n",
       "      dtype=object)"
      ]
     },
     "execution_count": 56,
     "metadata": {},
     "output_type": "execute_result"
    },
    {
     "data": {
      "image/png": "[encoded data removed]",
      "text/plain": [
       "<Figure size 432x288 with 2 Axes>"
      ]
     },
     "metadata": {
      "needs_background": "light"
     },
     "output_type": "display_data"
    }
   ],
   "source": [
    "interactions_df.groupby(\"user_id\").count().hist()#.mean()"
   ]
  },
  {
   "cell_type": "code",
   "execution_count": 57,
   "metadata": {
    "pycharm": {
     "name": "#%%\n"
    }
   },
   "outputs": [],
   "source": [
    "titles_df.index = titles_df[\"artist_id\"]\n",
    "title_dict = titles_df[\"artist_name\"].to_dict()"
   ]
  },
  {
   "cell_type": "code",
   "execution_count": 58,
   "metadata": {
    "pycharm": {
     "name": "#%%\n"
    }
   },
   "outputs": [],
   "source": [
    "rows, r_pos = np.unique(interactions_df.values[:,0], return_inverse=True)\n",
    "cols, c_pos = np.unique(interactions_df.values[:,1], return_inverse=True)"
   ]
  },
  {
   "cell_type": "code",
   "execution_count": 59,
   "metadata": {
    "pycharm": {
     "name": "#%%\n"
    }
   },
   "outputs": [],
   "source": [
    "artists_sparse = sparse.csr_matrix((interactions_df.values[:,2], (r_pos, c_pos)))"
   ]
  },
  {
   "cell_type": "code",
   "execution_count": 60,
   "metadata": {
    "pycharm": {
     "name": "#%%\n"
    }
   },
   "outputs": [
    {
     "name": "stdout",
     "output_type": "stream",
     "text": [
      "  (0, 262)\t1315\n",
      "  (0, 493)\t11351\n",
      "  (0, 1621)\t2547\n",
      "  (0, 2561)\t2584\n",
      "  (0, 2605)\t2397\n",
      "  (0, 3237)\t1792\n",
      "  (0, 3271)\t3579\n",
      "  (0, 3512)\t1740\n",
      "  (0, 3559)\t6152\n",
      "  (0, 3827)\t1559\n",
      "  (0, 3991)\t2619\n",
      "  (0, 4126)\t2654\n",
      "  (0, 4546)\t1337\n",
      "  (0, 4561)\t13883\n",
      "  (0, 4784)\t2382\n",
      "  (0, 4949)\t3735\n",
      "  (0, 5205)\t3312\n",
      "  (0, 5336)\t1990\n",
      "  (0, 5435)\t1342\n",
      "  (0, 5854)\t2120\n",
      "  (0, 6035)\t4616\n",
      "  (0, 6067)\t1553\n",
      "  (0, 6187)\t1972\n",
      "  (0, 6672)\t10300\n",
      "  (0, 6853)\t2927\n",
      "  :\t:\n",
      "  (1891, 8659)\t263\n",
      "  (1891, 8660)\t443\n",
      "  (1891, 8726)\t731\n",
      "  (1891, 9074)\t655\n",
      "  (1891, 9428)\t1459\n",
      "  (1891, 10097)\t278\n",
      "  (1891, 10180)\t404\n",
      "  (1891, 10212)\t758\n",
      "  (1891, 10432)\t1068\n",
      "  (1891, 10792)\t289\n",
      "  (1891, 10841)\t228\n",
      "  (1891, 10878)\t337\n",
      "  (1891, 10910)\t456\n",
      "  (1891, 11425)\t705\n",
      "  (1891, 12461)\t389\n",
      "  (1891, 12731)\t626\n",
      "  (1891, 13032)\t724\n",
      "  (1891, 13256)\t429\n",
      "  (1891, 13303)\t553\n",
      "  (1891, 13880)\t403\n",
      "  (1891, 14180)\t1062\n",
      "  (1891, 14816)\t793\n",
      "  (1891, 16053)\t457\n",
      "  (1891, 16191)\t535\n",
      "  (1891, 16639)\t1333\n"
     ]
    }
   ],
   "source": [
    "print(artists_sparse)"
   ]
  },
  {
   "cell_type": "code",
   "execution_count": 61,
   "metadata": {
    "pycharm": {
     "name": "#%%\n"
    }
   },
   "outputs": [],
   "source": [
    "Pui = normalize(artists_sparse, norm='l2',axis=1)\n",
    "sim = Pui.T * Pui"
   ]
  },
  {
   "cell_type": "code",
   "execution_count": 64,
   "metadata": {
    "pycharm": {
     "name": "#%%\n"
    },
    "scrolled": true
   },
   "outputs": [
    {
     "data": {
      "text/plain": [
       "[\"Patrick O'hearn\",\n",
       " 'Common Rotation',\n",
       " 'Nine Inch Nails',\n",
       " 'Flogging Molly',\n",
       " 'Peter Gabriel',\n",
       " 'Enya',\n",
       " 'Disturbed',\n",
       " 'David Helpling',\n",
       " 'Eric Serra',\n",
       " 'Green Day',\n",
       " 'Ani Difranco',\n",
       " 'Erik Wøllo',\n",
       " '譚盾',\n",
       " 'R.E.M.',\n",
       " 'Linkin Park',\n",
       " 'Vangelis',\n",
       " 'Duran Duran',\n",
       " 'Jonathan Coulton',\n",
       " 'Ennio Morricone',\n",
       " 'Academy Of St. Martin-In-The-Fields Under Neville Marriner']"
      ]
     },
     "execution_count": 64,
     "metadata": {},
     "output_type": "execute_result"
    }
   ],
   "source": [
    "recomend = [title_dict[i+1] for i in sim[301].toarray().argsort()[0][-20:]]\n",
    "recomendations = list(reversed(recomend))\n",
    "recomendations"
   ]
  },
  {
   "cell_type": "code",
   "execution_count": 69,
   "metadata": {
    "pycharm": {
     "name": "#%%\n"
    }
   },
   "outputs": [],
   "source": [
    "artists_sparse_transposed = artists_sparse.transpose(copy=True)\n",
    "Piu = normalize(artists_sparse_transposed, norm='l2', axis=1)\n",
    "\n",
    "similarity = Pui * Piu * Pui * Piu * Pui"
   ]
  },
  {
   "cell_type": "code",
   "execution_count": 70,
   "metadata": {
    "pycharm": {
     "name": "#%%\n"
    }
   },
   "outputs": [],
   "source": [
    "prev = [title_dict[i+1] for i in np.nonzero(artists_sparse[520])[1].tolist()]"
   ]
  },
  {
   "cell_type": "code",
   "execution_count": 71,
   "metadata": {
    "pycharm": {
     "name": "#%%\n"
    }
   },
   "outputs": [],
   "source": [
    "usim = [title_dict[i+1] for i in similarity[520].toarray().argsort()[0][-20:].tolist()]"
   ]
  },
  {
   "cell_type": "code",
   "execution_count": 72,
   "metadata": {
    "pycharm": {
     "name": "#%%\n"
    }
   },
   "outputs": [
    {
     "data": {
      "text/plain": [
       "{'Arctic Monkeys',\n",
       " 'Britney Spears',\n",
       " 'Christina Aguilera',\n",
       " 'Coldplay',\n",
       " 'Duran Duran',\n",
       " 'Lady Gaga',\n",
       " 'Madonna',\n",
       " 'Muse',\n",
       " 'Nine Inch Nails',\n",
       " 'Oasis',\n",
       " 'Pink Floyd',\n",
       " 'Radiohead',\n",
       " 'Rihanna',\n",
       " 'The Beatles',\n",
       " 'The Killers'}"
      ]
     },
     "execution_count": 72,
     "metadata": {},
     "output_type": "execute_result"
    }
   ],
   "source": [
    "pred = set(usim) - set(prev)\n",
    "pred"
   ]
  },
  {
   "cell_type": "code",
   "execution_count": null,
   "metadata": {},
   "outputs": [],
   "source": []
  },
  {
   "cell_type": "code",
   "execution_count": 45,
   "metadata": {},
   "outputs": [],
   "source": [
    "interactions_df.loc[len(interactions_df.index)] = [2000, 301, 3000]"
   ]
  },
  {
   "cell_type": "code",
   "execution_count": 46,
   "metadata": {},
   "outputs": [
    {
     "data": {
      "text/html": [
       "<div>\n",
       "<style scoped>\n",
       "    .dataframe tbody tr th:only-of-type {\n",
       "        vertical-align: middle;\n",
       "    }\n",
       "\n",
       "    .dataframe tbody tr th {\n",
       "        vertical-align: top;\n",
       "    }\n",
       "\n",
       "    .dataframe thead th {\n",
       "        text-align: right;\n",
       "    }\n",
       "</style>\n",
       "<table border=\"1\" class=\"dataframe\">\n",
       "  <thead>\n",
       "    <tr style=\"text-align: right;\">\n",
       "      <th></th>\n",
       "      <th>user_id</th>\n",
       "      <th>artist_id</th>\n",
       "      <th>scrobbles</th>\n",
       "    </tr>\n",
       "  </thead>\n",
       "  <tbody>\n",
       "    <tr>\n",
       "      <th>0</th>\n",
       "      <td>1</td>\n",
       "      <td>4562</td>\n",
       "      <td>13883</td>\n",
       "    </tr>\n",
       "    <tr>\n",
       "      <th>1</th>\n",
       "      <td>1</td>\n",
       "      <td>10191</td>\n",
       "      <td>11690</td>\n",
       "    </tr>\n",
       "    <tr>\n",
       "      <th>2</th>\n",
       "      <td>1</td>\n",
       "      <td>494</td>\n",
       "      <td>11351</td>\n",
       "    </tr>\n",
       "    <tr>\n",
       "      <th>3</th>\n",
       "      <td>1</td>\n",
       "      <td>6673</td>\n",
       "      <td>10300</td>\n",
       "    </tr>\n",
       "    <tr>\n",
       "      <th>4</th>\n",
       "      <td>1</td>\n",
       "      <td>8402</td>\n",
       "      <td>8983</td>\n",
       "    </tr>\n",
       "    <tr>\n",
       "      <th>...</th>\n",
       "      <td>...</td>\n",
       "      <td>...</td>\n",
       "      <td>...</td>\n",
       "    </tr>\n",
       "    <tr>\n",
       "      <th>92788</th>\n",
       "      <td>1892</td>\n",
       "      <td>8660</td>\n",
       "      <td>263</td>\n",
       "    </tr>\n",
       "    <tr>\n",
       "      <th>92789</th>\n",
       "      <td>1892</td>\n",
       "      <td>3274</td>\n",
       "      <td>258</td>\n",
       "    </tr>\n",
       "    <tr>\n",
       "      <th>92790</th>\n",
       "      <td>1892</td>\n",
       "      <td>4240</td>\n",
       "      <td>232</td>\n",
       "    </tr>\n",
       "    <tr>\n",
       "      <th>92791</th>\n",
       "      <td>1892</td>\n",
       "      <td>10842</td>\n",
       "      <td>228</td>\n",
       "    </tr>\n",
       "    <tr>\n",
       "      <th>92792</th>\n",
       "      <td>2000</td>\n",
       "      <td>301</td>\n",
       "      <td>3000</td>\n",
       "    </tr>\n",
       "  </tbody>\n",
       "</table>\n",
       "<p>92793 rows × 3 columns</p>\n",
       "</div>"
      ],
      "text/plain": [
       "       user_id  artist_id  scrobbles\n",
       "0            1       4562      13883\n",
       "1            1      10191      11690\n",
       "2            1        494      11351\n",
       "3            1       6673      10300\n",
       "4            1       8402       8983\n",
       "...        ...        ...        ...\n",
       "92788     1892       8660        263\n",
       "92789     1892       3274        258\n",
       "92790     1892       4240        232\n",
       "92791     1892      10842        228\n",
       "92792     2000        301       3000\n",
       "\n",
       "[92793 rows x 3 columns]"
      ]
     },
     "execution_count": 46,
     "metadata": {},
     "output_type": "execute_result"
    }
   ],
   "source": [
    "interactions_df"
   ]
  },
  {
   "cell_type": "code",
   "execution_count": 73,
   "metadata": {},
   "outputs": [],
   "source": [
    "points = [(10735, 9), (11894, 8), (301, 6.5), (8785, 2), (9192, 8), (5413, 9)]"
   ]
  },
  {
   "cell_type": "code",
   "execution_count": 77,
   "metadata": {},
   "outputs": [],
   "source": [
    "def predict(p):\n",
    "    for i, score in p:\n",
    "        interactions_df.loc[len(interactions_df.index)] = [2000, i, score*500]\n",
    "        rows, r_pos = np.unique(interactions_df.values[:,0], return_inverse=True)\n",
    "        cols, c_pos = np.unique(interactions_df.values[:,1], return_inverse=True)\n",
    "        artists_sparse = sparse.csr_matrix((interactions_df.values[:,2], (r_pos, c_pos)))\n",
    "        Pui = normalize(artists_sparse, norm='l2',axis=1)\n",
    "        artists_sparse_transposed = artists_sparse.transpose(copy=True)\n",
    "        Piu = normalize(artists_sparse_transposed, norm='l2', axis=1)\n",
    "        similarity = Pui * Piu * Pui #* Piu * Pui\n",
    "        prev = [title_dict[i+1] for i in np.nonzero(artists_sparse[520])[1].tolist()]\n",
    "        usim = [title_dict[i+1] for i in similarity[520].toarray().argsort()[0][-20:].tolist()]\n",
    "        return set(usim) - set(prev)"
   ]
  },
  {
   "cell_type": "code",
   "execution_count": 78,
   "metadata": {},
   "outputs": [
    {
     "data": {
      "text/plain": [
       "{'Duran Duran',\n",
       " 'Lady Gaga',\n",
       " 'Muse',\n",
       " 'Nine Inch Nails',\n",
       " 'Radiohead',\n",
       " 'The Beatles'}"
      ]
     },
     "execution_count": 78,
     "metadata": {},
     "output_type": "execute_result"
    }
   ],
   "source": [
    "predict(points)"
   ]
  },
  {
   "cell_type": "code",
   "execution_count": null,
   "metadata": {},
   "outputs": [],
   "source": []
  }
 ],
 "metadata": {
  "kernelspec": {
   "display_name": "Python 3",
   "language": "python",
   "name": "python3"
  },
  "language_info": {
   "codemirror_mode": {
    "name": "ipython",
    "version": 3
   },
   "file_extension": ".py",
   "mimetype": "text/x-python",
   "name": "python",
   "nbconvert_exporter": "python",
   "pygments_lexer": "ipython3",
   "version": "3.8.3"
  }
 },
 "nbformat": 4,
 "nbformat_minor": 1
}
